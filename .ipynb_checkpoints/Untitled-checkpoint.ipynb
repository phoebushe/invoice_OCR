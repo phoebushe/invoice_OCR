{
 "cells": [
  {
   "cell_type": "code",
   "execution_count": 29,
   "metadata": {},
   "outputs": [],
   "source": [
    "import numpy as np\n",
    "\n",
    "def generate_anchors(base_size=16, ratios=[0.5, 1, 2],\n",
    "                     scales=2**np.arange(3, 6)):\n",
    "    heights = [11, 16, 23, 33, 48, 68, 97, 139, 198, 283]\n",
    "    widths = [16]\n",
    "    sizes = []\n",
    "    for h in heights:\n",
    "        for w in widths:\n",
    "            sizes.append((h, w))\n",
    "    return generate_basic_anchors(sizes)"
   ]
  },
  {
   "cell_type": "code",
   "execution_count": 30,
   "metadata": {},
   "outputs": [],
   "source": [
    "def generate_basic_anchors(sizes, base_size=16):\n",
    "    base_anchor = np.array([0, 0, base_size - 1, base_size - 1], np.int32)\n",
    "    anchors = np.zeros((len(sizes), 4), np.int32)\n",
    "    index = 0\n",
    "    for h, w in sizes:\n",
    "        anchors[index] = scale_anchor(base_anchor, h, w)\n",
    "        index += 1\n",
    "    return anchors"
   ]
  },
  {
   "cell_type": "code",
   "execution_count": 31,
   "metadata": {},
   "outputs": [],
   "source": [
    "def scale_anchor(anchor, h, w):\n",
    "    x_ctr = (anchor[0] + anchor[2]) * 0.5 #7.5\n",
    "    y_ctr = (anchor[1] + anchor[3]) * 0.5 #7.5\n",
    "    scaled_anchor = anchor.copy()\n",
    "    scaled_anchor[0] = x_ctr - w / 2  # xmin\n",
    "    scaled_anchor[2] = x_ctr + w / 2  # xmax\n",
    "    scaled_anchor[1] = y_ctr - h / 2  # ymin\n",
    "    scaled_anchor[3] = y_ctr + h / 2  # ymax\n",
    "    return scaled_anchor"
   ]
  },
  {
   "cell_type": "code",
   "execution_count": 32,
   "metadata": {},
   "outputs": [
    {
     "name": "stdout",
     "output_type": "stream",
     "text": [
      "x_ctr 7.5\n",
      "y_ctr 7.5\n",
      "x_ctr 7.5\n",
      "y_ctr 7.5\n",
      "x_ctr 7.5\n",
      "y_ctr 7.5\n",
      "x_ctr 7.5\n",
      "y_ctr 7.5\n",
      "x_ctr 7.5\n",
      "y_ctr 7.5\n",
      "x_ctr 7.5\n",
      "y_ctr 7.5\n",
      "x_ctr 7.5\n",
      "y_ctr 7.5\n",
      "x_ctr 7.5\n",
      "y_ctr 7.5\n",
      "x_ctr 7.5\n",
      "y_ctr 7.5\n",
      "x_ctr 7.5\n",
      "y_ctr 7.5\n"
     ]
    },
    {
     "data": {
      "text/plain": [
       "array([[   0,    2,   15,   13],\n",
       "       [   0,    0,   15,   15],\n",
       "       [   0,   -4,   15,   19],\n",
       "       [   0,   -9,   15,   24],\n",
       "       [   0,  -16,   15,   31],\n",
       "       [   0,  -26,   15,   41],\n",
       "       [   0,  -41,   15,   56],\n",
       "       [   0,  -62,   15,   77],\n",
       "       [   0,  -91,   15,  106],\n",
       "       [   0, -134,   15,  149]], dtype=int32)"
      ]
     },
     "execution_count": 32,
     "metadata": {},
     "output_type": "execute_result"
    }
   ],
   "source": [
    "generate_anchors()"
   ]
  },
  {
   "cell_type": "code",
   "execution_count": null,
   "metadata": {},
   "outputs": [],
   "source": []
  }
 ],
 "metadata": {
  "kernelspec": {
   "display_name": "Python 3",
   "language": "python",
   "name": "python3"
  },
  "language_info": {
   "codemirror_mode": {
    "name": "ipython",
    "version": 3
   },
   "file_extension": ".py",
   "mimetype": "text/x-python",
   "name": "python",
   "nbconvert_exporter": "python",
   "pygments_lexer": "ipython3",
   "version": "3.5.2"
  }
 },
 "nbformat": 4,
 "nbformat_minor": 2
}
